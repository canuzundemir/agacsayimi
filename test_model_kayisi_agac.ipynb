{
 "cells": [
  {
   "cell_type": "markdown",
   "metadata": {},
   "source": [
    "\n",
    "# Testing Custom Mask R-CNN Model"
   ]
  },
  {
   "cell_type": "code",
   "execution_count": 77,
   "metadata": {},
   "outputs": [],
   "source": [
    "import warnings\n",
    "warnings.filterwarnings('ignore')\n",
    "import os\n",
    "import sys\n",
    "import json\n",
    "import datetime\n",
    "import numpy as np\n",
    "import skimage.draw\n",
    "import cv2\n",
    "import random\n",
    "import math\n",
    "import re\n",
    "import time\n",
    "import tensorflow as tf\n",
    "import matplotlib.pyplot as plt\n",
    "import matplotlib.patches as patches\n",
    "import matplotlib.image as mpimg\n",
    "\n",
    "from mrcnn import utils\n",
    "from mrcnn import visualize\n",
    "from mrcnn.visualize import display_images\n",
    "from mrcnn.visualize import display_instances\n",
    "import mrcnn.model as modellib\n",
    "from mrcnn.model import log\n",
    "from mrcnn.config import Config\n",
    "from mrcnn import model as modellib, utils\n",
    "\n",
    "#import custom\n",
    "\n",
    "# Root directory of the project\n",
    "ROOT_DIR = \"C:/Users/can.uzundemir/Desktop/vgg\"\n",
    "\n",
    "DEFAULT_LOGS_DIR = os.path.join(ROOT_DIR, \"logs\")\n",
    "\n",
    "MODEL_DIR = os.path.join(ROOT_DIR, \"logs\")\n",
    "\n",
    "\n",
    "WEIGHTS_PATH = \"C:/Users/can.uzundemir/Desktop/vgg/logs/object20210526T0125/mask_rcnn_object_0017.h5\"   # change it\n"
   ]
  },
  {
   "cell_type": "code",
   "execution_count": 78,
   "metadata": {},
   "outputs": [],
   "source": [
    "class CustomConfig(Config):\n",
    "    \"\"\"Configuration for training on the custom  dataset.\n",
    "    Derives from the base Config class and overrides some values.\n",
    "    \"\"\"\n",
    "    # Give the configuration a recognizable name\n",
    "    NAME = \"object\"\n",
    "\n",
    "    IMAGES_PER_GPU = 1\n",
    "\n",
    "    NUM_CLASSES = 1 + 1  # Background + phone,laptop and mobile\n",
    "\n",
    "    # Number of training steps per epoch\n",
    "    STEPS_PER_EPOCH = 10\n",
    "\n",
    "    # Skip detections with < 90% confidence\n",
    "    DETECTION_MIN_CONFIDENCE = 0.9"
   ]
  },
  {
   "cell_type": "code",
   "execution_count": 79,
   "metadata": {},
   "outputs": [
    {
     "name": "stdout",
     "output_type": "stream",
     "text": [
      "\n",
      "Configurations:\n",
      "BACKBONE                       resnet101\n",
      "BACKBONE_STRIDES               [4, 8, 16, 32, 64]\n",
      "BATCH_SIZE                     1\n",
      "BBOX_STD_DEV                   [0.1 0.1 0.2 0.2]\n",
      "COMPUTE_BACKBONE_SHAPE         None\n",
      "DETECTION_MAX_INSTANCES        100\n",
      "DETECTION_MIN_CONFIDENCE       0.7\n",
      "DETECTION_NMS_THRESHOLD        0.3\n",
      "FPN_CLASSIF_FC_LAYERS_SIZE     1024\n",
      "GPU_COUNT                      1\n",
      "GRADIENT_CLIP_NORM             5.0\n",
      "IMAGES_PER_GPU                 1\n",
      "IMAGE_CHANNEL_COUNT            3\n",
      "IMAGE_MAX_DIM                  1024\n",
      "IMAGE_META_SIZE                14\n",
      "IMAGE_MIN_DIM                  800\n",
      "IMAGE_MIN_SCALE                0\n",
      "IMAGE_RESIZE_MODE              square\n",
      "IMAGE_SHAPE                    [1024 1024    3]\n",
      "LEARNING_MOMENTUM              0.9\n",
      "LEARNING_RATE                  0.001\n",
      "LOSS_WEIGHTS                   {'rpn_class_loss': 1.0, 'rpn_bbox_loss': 1.0, 'mrcnn_class_loss': 1.0, 'mrcnn_bbox_loss': 1.0, 'mrcnn_mask_loss': 1.0}\n",
      "MASK_POOL_SIZE                 14\n",
      "MASK_SHAPE                     [28, 28]\n",
      "MAX_GT_INSTANCES               100\n",
      "MEAN_PIXEL                     [123.7 116.8 103.9]\n",
      "MINI_MASK_SHAPE                (56, 56)\n",
      "NAME                           object\n",
      "NUM_CLASSES                    2\n",
      "POOL_SIZE                      7\n",
      "POST_NMS_ROIS_INFERENCE        1000\n",
      "POST_NMS_ROIS_TRAINING         2000\n",
      "PRE_NMS_LIMIT                  6000\n",
      "ROI_POSITIVE_RATIO             0.33\n",
      "RPN_ANCHOR_RATIOS              [0.5, 1, 2]\n",
      "RPN_ANCHOR_SCALES              (32, 64, 128, 256, 512)\n",
      "RPN_ANCHOR_STRIDE              1\n",
      "RPN_BBOX_STD_DEV               [0.1 0.1 0.2 0.2]\n",
      "RPN_NMS_THRESHOLD              0.7\n",
      "RPN_TRAIN_ANCHORS_PER_IMAGE    256\n",
      "STEPS_PER_EPOCH                10\n",
      "TOP_DOWN_PYRAMID_SIZE          256\n",
      "TRAIN_BN                       False\n",
      "TRAIN_ROIS_PER_IMAGE           200\n",
      "USE_MINI_MASK                  True\n",
      "USE_RPN_ROIS                   True\n",
      "VALIDATION_STEPS               50\n",
      "WEIGHT_DECAY                   0.0001\n",
      "\n",
      "\n"
     ]
    }
   ],
   "source": [
    "config = CustomConfig()\n",
    "CUSTOM_DIR = os.path.join(ROOT_DIR, \"/Dataset/\")\n",
    "class InferenceConfig(config.__class__):\n",
    "    # Run detection on one image at a time\n",
    "    GPU_COUNT = 1\n",
    "    IMAGES_PER_GPU = 1\n",
    "    DETECTION_MIN_CONFIDENCE = 0.7\n",
    "\n",
    "config = InferenceConfig()\n",
    "config.display()"
   ]
  },
  {
   "cell_type": "code",
   "execution_count": 80,
   "metadata": {},
   "outputs": [],
   "source": [
    "# Code for Customdataset class. Same code is present in custom.py file also\n",
    "class CustomDataset(utils.Dataset):\n",
    "\n",
    "    def load_custom(self, dataset_dir, subset):\n",
    "\n",
    "        self.add_class(\"object\", 1, \"kayisi_train\")\n",
    "\n",
    "        assert subset in [\"train\", \"val\"]\n",
    "        dataset_dir = os.path.join(dataset_dir, subset)\n",
    "        annotations1 = json.load(open('C:/Users/can.uzundemir/Desktop/vgg/Dataset/train/train.json'))\n",
    "\n",
    "        annotations = list(annotations1.values())  # don't need the dict keys\n",
    "\n",
    "        annotations = [a for a in annotations if a['regions']]\n",
    "        \n",
    "        # Add images\n",
    "        for a in annotations:\n",
    "           \n",
    "            polygons = [r['shape_attributes'] for r in a['regions']] \n",
    "            objects = [s['region_attributes']['name'] for s in a['regions']]\n",
    "            print(\"objects:\",objects)\n",
    "            name_dict = {\"kayisi_train\": 1} #,\"xyz\": 3}\n",
    "            num_ids = [name_dict[a] for a in objects]\n",
    "\n",
    "            print(\"numids\",num_ids)\n",
    "            image_path = os.path.join(dataset_dir, a['filename'])\n",
    "            image = skimage.io.imread(image_path)\n",
    "            height, width = image.shape[:2]\n",
    "\n",
    "            self.add_image(\n",
    "                \"object\", \n",
    "                image_id=a['filename'],  # use file name as a unique image id\n",
    "                path=image_path,\n",
    "                width=width, height=height,\n",
    "                polygons=polygons,\n",
    "                num_ids=num_ids\n",
    "                )\n",
    "\n",
    "    def load_mask(self, image_id):\n",
    "       \n",
    "        image_info = self.image_info[image_id]\n",
    "        if image_info[\"source\"] != \"object\":\n",
    "            return super(self.__class__, self).load_mask(image_id)\n",
    "\n",
    "        info = self.image_info[image_id]\n",
    "        if info[\"source\"] != \"object\":\n",
    "            return super(self.__class__, self).load_mask(image_id)\n",
    "        num_ids = info['num_ids']\n",
    "        mask = np.zeros([info[\"height\"], info[\"width\"], len(info[\"polygons\"])],\n",
    "                        dtype=np.uint8)\n",
    "        for i, p in enumerate(info[\"polygons\"]):\n",
    "\n",
    "        \trr, cc = skimage.draw.polygon(p['all_points_y'], p['all_points_x'])\n",
    "\n",
    "        \tmask[rr, cc, i] = 1\n",
    "\n",
    "        num_ids = np.array(num_ids, dtype=np.int32)\n",
    "        return mask, num_ids #np.ones([mask.shape[-1]], dtype=np.int32)\n",
    "\n",
    "    def image_reference(self, image_id):\n",
    "        \"\"\"Return the path of the image.\"\"\"\n",
    "        info = self.image_info[image_id]\n",
    "        if info[\"source\"] == \"object\":\n",
    "            return info[\"path\"]\n",
    "        else:\n",
    "            super(self.__class__, self).image_reference(image_id)\n"
   ]
  },
  {
   "cell_type": "code",
   "execution_count": 81,
   "metadata": {},
   "outputs": [
    {
     "name": "stdout",
     "output_type": "stream",
     "text": [
      "objects: ['kayisi_train', 'kayisi_train', 'kayisi_train', 'kayisi_train', 'kayisi_train', 'kayisi_train', 'kayisi_train', 'kayisi_train', 'kayisi_train', 'kayisi_train', 'kayisi_train', 'kayisi_train', 'kayisi_train', 'kayisi_train', 'kayisi_train', 'kayisi_train', 'kayisi_train', 'kayisi_train', 'kayisi_train', 'kayisi_train', 'kayisi_train', 'kayisi_train', 'kayisi_train', 'kayisi_train', 'kayisi_train', 'kayisi_train', 'kayisi_train', 'kayisi_train', 'kayisi_train', 'kayisi_train', 'kayisi_train', 'kayisi_train', 'kayisi_train', 'kayisi_train', 'kayisi_train', 'kayisi_train', 'kayisi_train', 'kayisi_train', 'kayisi_train', 'kayisi_train', 'kayisi_train', 'kayisi_train', 'kayisi_train', 'kayisi_train']\n",
      "numids [1, 1, 1, 1, 1, 1, 1, 1, 1, 1, 1, 1, 1, 1, 1, 1, 1, 1, 1, 1, 1, 1, 1, 1, 1, 1, 1, 1, 1, 1, 1, 1, 1, 1, 1, 1, 1, 1, 1, 1, 1, 1, 1, 1]\n",
      "objects: ['kayisi_train', 'kayisi_train', 'kayisi_train', 'kayisi_train', 'kayisi_train', 'kayisi_train', 'kayisi_train', 'kayisi_train', 'kayisi_train', 'kayisi_train', 'kayisi_train', 'kayisi_train', 'kayisi_train', 'kayisi_train', 'kayisi_train', 'kayisi_train', 'kayisi_train', 'kayisi_train', 'kayisi_train', 'kayisi_train', 'kayisi_train', 'kayisi_train', 'kayisi_train', 'kayisi_train', 'kayisi_train', 'kayisi_train', 'kayisi_train', 'kayisi_train', 'kayisi_train', 'kayisi_train', 'kayisi_train', 'kayisi_train', 'kayisi_train', 'kayisi_train', 'kayisi_train', 'kayisi_train', 'kayisi_train', 'kayisi_train', 'kayisi_train', 'kayisi_train', 'kayisi_train', 'kayisi_train', 'kayisi_train']\n",
      "numids [1, 1, 1, 1, 1, 1, 1, 1, 1, 1, 1, 1, 1, 1, 1, 1, 1, 1, 1, 1, 1, 1, 1, 1, 1, 1, 1, 1, 1, 1, 1, 1, 1, 1, 1, 1, 1, 1, 1, 1, 1, 1, 1]\n",
      "objects: ['kayisi_train', 'kayisi_train', 'kayisi_train', 'kayisi_train', 'kayisi_train', 'kayisi_train', 'kayisi_train', 'kayisi_train', 'kayisi_train', 'kayisi_train', 'kayisi_train', 'kayisi_train', 'kayisi_train', 'kayisi_train', 'kayisi_train', 'kayisi_train', 'kayisi_train', 'kayisi_train', 'kayisi_train', 'kayisi_train', 'kayisi_train', 'kayisi_train', 'kayisi_train', 'kayisi_train', 'kayisi_train', 'kayisi_train', 'kayisi_train', 'kayisi_train', 'kayisi_train', 'kayisi_train', 'kayisi_train', 'kayisi_train', 'kayisi_train', 'kayisi_train', 'kayisi_train', 'kayisi_train', 'kayisi_train']\n",
      "numids [1, 1, 1, 1, 1, 1, 1, 1, 1, 1, 1, 1, 1, 1, 1, 1, 1, 1, 1, 1, 1, 1, 1, 1, 1, 1, 1, 1, 1, 1, 1, 1, 1, 1, 1, 1, 1]\n",
      "objects: ['kayisi_train', 'kayisi_train', 'kayisi_train', 'kayisi_train', 'kayisi_train', 'kayisi_train', 'kayisi_train', 'kayisi_train', 'kayisi_train', 'kayisi_train', 'kayisi_train', 'kayisi_train', 'kayisi_train', 'kayisi_train', 'kayisi_train', 'kayisi_train', 'kayisi_train', 'kayisi_train', 'kayisi_train', 'kayisi_train', 'kayisi_train', 'kayisi_train', 'kayisi_train', 'kayisi_train', 'kayisi_train', 'kayisi_train', 'kayisi_train', 'kayisi_train', 'kayisi_train', 'kayisi_train', 'kayisi_train', 'kayisi_train', 'kayisi_train', 'kayisi_train', 'kayisi_train']\n",
      "numids [1, 1, 1, 1, 1, 1, 1, 1, 1, 1, 1, 1, 1, 1, 1, 1, 1, 1, 1, 1, 1, 1, 1, 1, 1, 1, 1, 1, 1, 1, 1, 1, 1, 1, 1]\n",
      "objects: ['kayisi_train', 'kayisi_train', 'kayisi_train', 'kayisi_train', 'kayisi_train', 'kayisi_train', 'kayisi_train', 'kayisi_train', 'kayisi_train', 'kayisi_train', 'kayisi_train', 'kayisi_train', 'kayisi_train', 'kayisi_train', 'kayisi_train', 'kayisi_train', 'kayisi_train', 'kayisi_train', 'kayisi_train', 'kayisi_train', 'kayisi_train', 'kayisi_train', 'kayisi_train', 'kayisi_train', 'kayisi_train', 'kayisi_train', 'kayisi_train', 'kayisi_train', 'kayisi_train', 'kayisi_train', 'kayisi_train', 'kayisi_train', 'kayisi_train']\n",
      "numids [1, 1, 1, 1, 1, 1, 1, 1, 1, 1, 1, 1, 1, 1, 1, 1, 1, 1, 1, 1, 1, 1, 1, 1, 1, 1, 1, 1, 1, 1, 1, 1, 1]\n",
      "objects: ['kayisi_train', 'kayisi_train', 'kayisi_train', 'kayisi_train', 'kayisi_train', 'kayisi_train', 'kayisi_train', 'kayisi_train', 'kayisi_train', 'kayisi_train', 'kayisi_train', 'kayisi_train', 'kayisi_train', 'kayisi_train', 'kayisi_train', 'kayisi_train', 'kayisi_train', 'kayisi_train', 'kayisi_train', 'kayisi_train', 'kayisi_train', 'kayisi_train', 'kayisi_train', 'kayisi_train', 'kayisi_train', 'kayisi_train', 'kayisi_train', 'kayisi_train', 'kayisi_train', 'kayisi_train', 'kayisi_train']\n",
      "numids [1, 1, 1, 1, 1, 1, 1, 1, 1, 1, 1, 1, 1, 1, 1, 1, 1, 1, 1, 1, 1, 1, 1, 1, 1, 1, 1, 1, 1, 1, 1]\n",
      "objects: ['kayisi_train', 'kayisi_train', 'kayisi_train', 'kayisi_train', 'kayisi_train', 'kayisi_train', 'kayisi_train', 'kayisi_train', 'kayisi_train', 'kayisi_train', 'kayisi_train', 'kayisi_train', 'kayisi_train', 'kayisi_train', 'kayisi_train', 'kayisi_train', 'kayisi_train', 'kayisi_train', 'kayisi_train', 'kayisi_train', 'kayisi_train', 'kayisi_train', 'kayisi_train', 'kayisi_train', 'kayisi_train', 'kayisi_train', 'kayisi_train', 'kayisi_train', 'kayisi_train']\n",
      "numids [1, 1, 1, 1, 1, 1, 1, 1, 1, 1, 1, 1, 1, 1, 1, 1, 1, 1, 1, 1, 1, 1, 1, 1, 1, 1, 1, 1, 1]\n",
      "objects: ['kayisi_train', 'kayisi_train', 'kayisi_train', 'kayisi_train', 'kayisi_train', 'kayisi_train', 'kayisi_train', 'kayisi_train', 'kayisi_train', 'kayisi_train', 'kayisi_train', 'kayisi_train', 'kayisi_train', 'kayisi_train', 'kayisi_train', 'kayisi_train', 'kayisi_train', 'kayisi_train', 'kayisi_train', 'kayisi_train', 'kayisi_train', 'kayisi_train', 'kayisi_train', 'kayisi_train', 'kayisi_train', 'kayisi_train', 'kayisi_train', 'kayisi_train', 'kayisi_train', 'kayisi_train', 'kayisi_train', 'kayisi_train', 'kayisi_train', 'kayisi_train', 'kayisi_train', 'kayisi_train', 'kayisi_train', 'kayisi_train']\n",
      "numids [1, 1, 1, 1, 1, 1, 1, 1, 1, 1, 1, 1, 1, 1, 1, 1, 1, 1, 1, 1, 1, 1, 1, 1, 1, 1, 1, 1, 1, 1, 1, 1, 1, 1, 1, 1, 1, 1]\n",
      "objects: ['kayisi_train', 'kayisi_train', 'kayisi_train', 'kayisi_train', 'kayisi_train', 'kayisi_train', 'kayisi_train', 'kayisi_train', 'kayisi_train', 'kayisi_train', 'kayisi_train', 'kayisi_train', 'kayisi_train', 'kayisi_train', 'kayisi_train', 'kayisi_train', 'kayisi_train', 'kayisi_train', 'kayisi_train', 'kayisi_train', 'kayisi_train', 'kayisi_train', 'kayisi_train', 'kayisi_train', 'kayisi_train', 'kayisi_train', 'kayisi_train', 'kayisi_train', 'kayisi_train', 'kayisi_train', 'kayisi_train', 'kayisi_train', 'kayisi_train', 'kayisi_train', 'kayisi_train', 'kayisi_train', 'kayisi_train', 'kayisi_train', 'kayisi_train', 'kayisi_train', 'kayisi_train', 'kayisi_train']\n",
      "numids [1, 1, 1, 1, 1, 1, 1, 1, 1, 1, 1, 1, 1, 1, 1, 1, 1, 1, 1, 1, 1, 1, 1, 1, 1, 1, 1, 1, 1, 1, 1, 1, 1, 1, 1, 1, 1, 1, 1, 1, 1, 1]\n",
      "objects: ['kayisi_train', 'kayisi_train', 'kayisi_train', 'kayisi_train', 'kayisi_train', 'kayisi_train', 'kayisi_train', 'kayisi_train', 'kayisi_train', 'kayisi_train', 'kayisi_train', 'kayisi_train', 'kayisi_train', 'kayisi_train', 'kayisi_train', 'kayisi_train', 'kayisi_train', 'kayisi_train', 'kayisi_train', 'kayisi_train', 'kayisi_train', 'kayisi_train', 'kayisi_train', 'kayisi_train', 'kayisi_train', 'kayisi_train', 'kayisi_train', 'kayisi_train', 'kayisi_train', 'kayisi_train', 'kayisi_train', 'kayisi_train', 'kayisi_train', 'kayisi_train', 'kayisi_train', 'kayisi_train', 'kayisi_train', 'kayisi_train', 'kayisi_train', 'kayisi_train', 'kayisi_train']\n",
      "numids [1, 1, 1, 1, 1, 1, 1, 1, 1, 1, 1, 1, 1, 1, 1, 1, 1, 1, 1, 1, 1, 1, 1, 1, 1, 1, 1, 1, 1, 1, 1, 1, 1, 1, 1, 1, 1, 1, 1, 1, 1]\n",
      "objects: ['kayisi_train', 'kayisi_train', 'kayisi_train', 'kayisi_train', 'kayisi_train', 'kayisi_train', 'kayisi_train', 'kayisi_train', 'kayisi_train', 'kayisi_train', 'kayisi_train', 'kayisi_train', 'kayisi_train', 'kayisi_train', 'kayisi_train', 'kayisi_train', 'kayisi_train', 'kayisi_train', 'kayisi_train', 'kayisi_train', 'kayisi_train', 'kayisi_train', 'kayisi_train', 'kayisi_train', 'kayisi_train', 'kayisi_train', 'kayisi_train', 'kayisi_train', 'kayisi_train', 'kayisi_train', 'kayisi_train', 'kayisi_train', 'kayisi_train', 'kayisi_train', 'kayisi_train', 'kayisi_train', 'kayisi_train', 'kayisi_train', 'kayisi_train', 'kayisi_train', 'kayisi_train']\n",
      "numids [1, 1, 1, 1, 1, 1, 1, 1, 1, 1, 1, 1, 1, 1, 1, 1, 1, 1, 1, 1, 1, 1, 1, 1, 1, 1, 1, 1, 1, 1, 1, 1, 1, 1, 1, 1, 1, 1, 1, 1, 1]\n",
      "objects: ['kayisi_train', 'kayisi_train', 'kayisi_train', 'kayisi_train', 'kayisi_train', 'kayisi_train', 'kayisi_train', 'kayisi_train', 'kayisi_train', 'kayisi_train', 'kayisi_train', 'kayisi_train', 'kayisi_train', 'kayisi_train', 'kayisi_train', 'kayisi_train', 'kayisi_train', 'kayisi_train', 'kayisi_train', 'kayisi_train', 'kayisi_train', 'kayisi_train', 'kayisi_train', 'kayisi_train', 'kayisi_train', 'kayisi_train', 'kayisi_train', 'kayisi_train', 'kayisi_train', 'kayisi_train', 'kayisi_train', 'kayisi_train', 'kayisi_train', 'kayisi_train', 'kayisi_train']\n",
      "numids [1, 1, 1, 1, 1, 1, 1, 1, 1, 1, 1, 1, 1, 1, 1, 1, 1, 1, 1, 1, 1, 1, 1, 1, 1, 1, 1, 1, 1, 1, 1, 1, 1, 1, 1]\n"
     ]
    },
    {
     "name": "stdout",
     "output_type": "stream",
     "text": [
      "objects: ['kayisi_train', 'kayisi_train', 'kayisi_train', 'kayisi_train', 'kayisi_train', 'kayisi_train', 'kayisi_train', 'kayisi_train', 'kayisi_train', 'kayisi_train', 'kayisi_train', 'kayisi_train', 'kayisi_train', 'kayisi_train', 'kayisi_train', 'kayisi_train', 'kayisi_train', 'kayisi_train', 'kayisi_train', 'kayisi_train', 'kayisi_train', 'kayisi_train', 'kayisi_train', 'kayisi_train', 'kayisi_train', 'kayisi_train', 'kayisi_train', 'kayisi_train', 'kayisi_train', 'kayisi_train', 'kayisi_train', 'kayisi_train', 'kayisi_train', 'kayisi_train', 'kayisi_train', 'kayisi_train', 'kayisi_train', 'kayisi_train', 'kayisi_train']\n",
      "numids [1, 1, 1, 1, 1, 1, 1, 1, 1, 1, 1, 1, 1, 1, 1, 1, 1, 1, 1, 1, 1, 1, 1, 1, 1, 1, 1, 1, 1, 1, 1, 1, 1, 1, 1, 1, 1, 1, 1]\n",
      "objects: ['kayisi_train', 'kayisi_train', 'kayisi_train', 'kayisi_train', 'kayisi_train', 'kayisi_train', 'kayisi_train', 'kayisi_train', 'kayisi_train', 'kayisi_train', 'kayisi_train', 'kayisi_train', 'kayisi_train', 'kayisi_train', 'kayisi_train', 'kayisi_train', 'kayisi_train', 'kayisi_train', 'kayisi_train', 'kayisi_train', 'kayisi_train', 'kayisi_train', 'kayisi_train', 'kayisi_train', 'kayisi_train', 'kayisi_train', 'kayisi_train', 'kayisi_train', 'kayisi_train', 'kayisi_train', 'kayisi_train', 'kayisi_train', 'kayisi_train', 'kayisi_train', 'kayisi_train', 'kayisi_train', 'kayisi_train', 'kayisi_train']\n",
      "numids [1, 1, 1, 1, 1, 1, 1, 1, 1, 1, 1, 1, 1, 1, 1, 1, 1, 1, 1, 1, 1, 1, 1, 1, 1, 1, 1, 1, 1, 1, 1, 1, 1, 1, 1, 1, 1, 1]\n",
      "Images: 14\n",
      "Classes: ['BG', 'kayisi_train']\n"
     ]
    }
   ],
   "source": [
    "# Inspect the model in training or inference modes values: 'inference' or 'training'\n",
    "TEST_MODE = \"inference\"\n",
    "ROOT_DIR = \"C:/Users/can.uzundemir/Desktop/vgg/Dataset\"\n",
    "\n",
    "def get_ax(rows=1, cols=1, size=16):\n",
    "  \"\"\"Return a Matplotlib Axes array to be used in all visualizations in the notebook.  Provide a central point to control graph sizes. Adjust the size attribute to control how big to render images\"\"\"\n",
    "  _, ax = plt.subplots(rows, cols, figsize=(size*cols, size*rows))\n",
    "  return ax\n",
    "\n",
    "# Load validation dataset\n",
    "# Must call before using the dataset\n",
    "CUSTOM_DIR = \"C:/Users/can.uzundemir/Desktop/vgg/Dataset\"\n",
    "dataset = CustomDataset()\n",
    "dataset.load_custom(CUSTOM_DIR, \"val\")\n",
    "dataset.prepare()\n",
    "print(\"Images: {}\\nClasses: {}\".format(len(dataset.image_ids), dataset.class_names))"
   ]
  },
  {
   "cell_type": "code",
   "execution_count": 82,
   "metadata": {},
   "outputs": [],
   "source": [
    "config = CustomConfig()\n",
    "#LOAD MODEL. Create model in inference mode\n",
    "model = modellib.MaskRCNN(mode=\"inference\", model_dir=MODEL_DIR, config=config)"
   ]
  },
  {
   "cell_type": "code",
   "execution_count": 83,
   "metadata": {},
   "outputs": [
    {
     "name": "stdout",
     "output_type": "stream",
     "text": [
      "Loading weights  C:/Users/can.uzundemir/Desktop/vgg/logs/object20210526T0125/mask_rcnn_object_0017.h5\n",
      "Re-starting from epoch 17\n"
     ]
    }
   ],
   "source": [
    "# Load COCO weights Or, load the last model you trained\n",
    "weights_path = WEIGHTS_PATH\n",
    "# Load weights\n",
    "print(\"Loading weights \", weights_path)\n",
    "\n",
    "model.load_weights(weights_path, by_name=True, exclude=[ \"mrcnn_class_logits\", \"mrcnn_bbox_fc\", \"mrcnn_bbox\", \"mrcnn_mask\"])"
   ]
  },
  {
   "cell_type": "code",
   "execution_count": 84,
   "metadata": {},
   "outputs": [
    {
     "name": "stdout",
     "output_type": "stream",
     "text": [
      "image id is : 13\n",
      "image ID: object.DJI_0380.JPG (13) C:/Users/can.uzundemir/Desktop/vgg/Dataset\\val\\DJI_0380.JPG\n",
      "Processing 1 images\n",
      "image                    shape: (1024, 1024, 3)       min:    0.00000  max:  255.00000  uint8\n",
      "molded_images            shape: (1, 1024, 1024, 3)    min: -123.70000  max:  151.10000  float64\n",
      "image_metas              shape: (1, 14)               min:    0.00000  max: 1024.00000  int32\n",
      "anchors                  shape: (1, 261888, 4)        min:   -0.35390  max:    1.29134  float32\n"
     ]
    }
   ],
   "source": [
    "#Now, we are ready for testing our model on any image.\n",
    "\n",
    "#RUN DETECTION\n",
    "image_id = random.choice(dataset.image_ids)\n",
    "#image_id = 'D:/MaskRCNN-aar/Dataset/val/1.jfif'\n",
    "print(\"image id is :\",image_id)\n",
    "image, image_meta, gt_class_id, gt_bbox, gt_mask =\\\n",
    "modellib.load_image_gt(dataset, config, image_id, use_mini_mask=False)\n",
    "info = dataset.image_info[image_id]\n",
    "print(\"image ID: {}.{} ({}) {}\".format(info[\"source\"], info[\"id\"], image_id,dataset.image_reference(image_id)))\n",
    "\n",
    "# Run object detection\n",
    "results = model.detect([image], verbose=1)\n",
    "\n"
   ]
  },
  {
   "cell_type": "code",
   "execution_count": 2,
   "metadata": {},
   "outputs": [
    {
     "ename": "NameError",
     "evalue": "name 'get_ax' is not defined",
     "output_type": "error",
     "traceback": [
      "\u001b[1;31m---------------------------------------------------------------------------\u001b[0m",
      "\u001b[1;31mNameError\u001b[0m                                 Traceback (most recent call last)",
      "\u001b[1;32m<ipython-input-2-f6323c1d091b>\u001b[0m in \u001b[0;36m<module>\u001b[1;34m\u001b[0m\n\u001b[0;32m      1\u001b[0m \u001b[1;31m# Display results\u001b[0m\u001b[1;33m\u001b[0m\u001b[1;33m\u001b[0m\u001b[0m\n\u001b[1;32m----> 2\u001b[1;33m \u001b[0mx\u001b[0m \u001b[1;33m=\u001b[0m \u001b[0mget_ax\u001b[0m\u001b[1;33m(\u001b[0m\u001b[1;36m1\u001b[0m\u001b[1;33m)\u001b[0m\u001b[1;33m\u001b[0m\u001b[0m\n\u001b[0m\u001b[0;32m      3\u001b[0m \u001b[0mr\u001b[0m \u001b[1;33m=\u001b[0m \u001b[0mresults\u001b[0m\u001b[1;33m[\u001b[0m\u001b[1;36m0\u001b[0m\u001b[1;33m]\u001b[0m\u001b[1;33m\u001b[0m\u001b[0m\n\u001b[0;32m      4\u001b[0m \u001b[0max\u001b[0m \u001b[1;33m=\u001b[0m \u001b[0mplt\u001b[0m\u001b[1;33m.\u001b[0m\u001b[0mgca\u001b[0m\u001b[1;33m(\u001b[0m\u001b[1;33m)\u001b[0m\u001b[1;33m\u001b[0m\u001b[0m\n\u001b[0;32m      5\u001b[0m \u001b[0mvisualize\u001b[0m\u001b[1;33m.\u001b[0m\u001b[0mdisplay_instances\u001b[0m\u001b[1;33m(\u001b[0m\u001b[0mimage\u001b[0m\u001b[1;33m,\u001b[0m \u001b[0mr\u001b[0m\u001b[1;33m[\u001b[0m\u001b[1;34m'rois'\u001b[0m\u001b[1;33m]\u001b[0m\u001b[1;33m,\u001b[0m \u001b[0mr\u001b[0m\u001b[1;33m[\u001b[0m\u001b[1;34m'masks'\u001b[0m\u001b[1;33m]\u001b[0m\u001b[1;33m,\u001b[0m \u001b[0mr\u001b[0m\u001b[1;33m[\u001b[0m\u001b[1;34m'class_ids'\u001b[0m\u001b[1;33m]\u001b[0m\u001b[1;33m,\u001b[0m \u001b[0mdataset\u001b[0m\u001b[1;33m.\u001b[0m\u001b[0mclass_names\u001b[0m\u001b[1;33m,\u001b[0m \u001b[0mr\u001b[0m\u001b[1;33m[\u001b[0m\u001b[1;34m'scores'\u001b[0m\u001b[1;33m]\u001b[0m\u001b[1;33m,\u001b[0m \u001b[0max\u001b[0m\u001b[1;33m=\u001b[0m\u001b[0max\u001b[0m\u001b[1;33m,\u001b[0m \u001b[0mtitle\u001b[0m\u001b[1;33m=\u001b[0m\u001b[1;34m\"Predictions\"\u001b[0m\u001b[1;33m)\u001b[0m\u001b[1;33m\u001b[0m\u001b[0m\n",
      "\u001b[1;31mNameError\u001b[0m: name 'get_ax' is not defined"
     ]
    }
   ],
   "source": [
    "# Display results\n",
    "x = get_ax(1)\n",
    "r = results[0]\n",
    "ax = plt.gca()\n",
    "visualize.display_instances(image, r['rois'], r['masks'], r['class_ids'], dataset.class_names, r['scores'], ax=ax, title=\"Predictions\")\n",
    "log(\"gt_class_id\", gt_class_id)\n",
    "log(\"gt_bbox\", gt_bbox)\n",
    "log(\"gt_mask\", gt_mask)\n",
    "# This is for predicting images which are not present in dataset\n",
    "path_to_new_image = 'C:/Users/can.uzundemir/Desktop/vgg/Dataset/val/DJI_038.JPG'\n",
    "image1 = mpimg.imread(path_to_new_image)\n",
    "\n",
    "# Run object detection\n",
    "print(len([image1]))\n",
    "results1 = model.detect([image1], verbose=1)\n",
    "\n",
    "# Display results\n",
    "ax = get_ax(1)\n",
    "r1 = results1[0]\n",
    "visualize.display_instances(image1, r1['rois'], r1['masks'], r1['class_ids'],\n",
    "dataset.class_names, r1['scores'], ax=ax, title=\"Predictions1\")"
   ]
  },
  {
   "cell_type": "code",
   "execution_count": 1,
   "metadata": {},
   "outputs": [
    {
     "ename": "NameError",
     "evalue": "name 'mpimg' is not defined",
     "output_type": "error",
     "traceback": [
      "\u001b[1;31m---------------------------------------------------------------------------\u001b[0m",
      "\u001b[1;31mNameError\u001b[0m                                 Traceback (most recent call last)",
      "\u001b[1;32m<ipython-input-1-2f67d590d476>\u001b[0m in \u001b[0;36m<module>\u001b[1;34m\u001b[0m\n\u001b[0;32m      1\u001b[0m \u001b[0mpath_to_new_image\u001b[0m \u001b[1;33m=\u001b[0m \u001b[1;34m'C:/Users/can.uzundemir/Desktop/vgg/Dataset/val/DJI_03.JPG'\u001b[0m\u001b[1;33m\u001b[0m\u001b[0m\n\u001b[1;32m----> 2\u001b[1;33m \u001b[0mimage1\u001b[0m \u001b[1;33m=\u001b[0m \u001b[0mmpimg\u001b[0m\u001b[1;33m.\u001b[0m\u001b[0mimread\u001b[0m\u001b[1;33m(\u001b[0m\u001b[0mpath_to_new_image\u001b[0m\u001b[1;33m)\u001b[0m\u001b[1;33m\u001b[0m\u001b[0m\n\u001b[0m\u001b[0;32m      3\u001b[0m \u001b[1;33m\u001b[0m\u001b[0m\n\u001b[0;32m      4\u001b[0m \u001b[1;31m# Run object detection\u001b[0m\u001b[1;33m\u001b[0m\u001b[1;33m\u001b[0m\u001b[0m\n\u001b[0;32m      5\u001b[0m \u001b[0mprint\u001b[0m\u001b[1;33m(\u001b[0m\u001b[0mlen\u001b[0m\u001b[1;33m(\u001b[0m\u001b[1;33m[\u001b[0m\u001b[0mimage1\u001b[0m\u001b[1;33m]\u001b[0m\u001b[1;33m)\u001b[0m\u001b[1;33m)\u001b[0m\u001b[1;33m\u001b[0m\u001b[0m\n",
      "\u001b[1;31mNameError\u001b[0m: name 'mpimg' is not defined"
     ]
    }
   ],
   "source": [
    "path_to_new_image = 'C:/Users/can.uzundemir/Desktop/vgg/Dataset/val/DJI_03.JPG'\n",
    "image1 = mpimg.imread(path_to_new_image)\n",
    "\n",
    "# Run object detection\n",
    "print(len([image1]))\n",
    "results1 = model.detect([image1], verbose=1)\n",
    "\n",
    "\n",
    "# Display results\n",
    "ax = get_ax(1)\n",
    "r1 = results1[0]\n",
    "visualize.display_instances(image1, r1['rois'], r1['masks'], r1['class_ids'],\n",
    "dataset.class_names, r1['scores'], ax=ax, title=\"Predictions1\")"
   ]
  },
  {
   "cell_type": "code",
   "execution_count": null,
   "metadata": {},
   "outputs": [],
   "source": []
  },
  {
   "cell_type": "code",
   "execution_count": null,
   "metadata": {},
   "outputs": [],
   "source": []
  },
  {
   "cell_type": "code",
   "execution_count": null,
   "metadata": {},
   "outputs": [],
   "source": []
  }
 ],
 "metadata": {
  "kernelspec": {
   "display_name": "Python 3",
   "language": "python",
   "name": "python3"
  },
  "language_info": {
   "codemirror_mode": {
    "name": "ipython",
    "version": 3
   },
   "file_extension": ".py",
   "mimetype": "text/x-python",
   "name": "python",
   "nbconvert_exporter": "python",
   "pygments_lexer": "ipython3",
   "version": "3.7.6"
  }
 },
 "nbformat": 4,
 "nbformat_minor": 4
}
